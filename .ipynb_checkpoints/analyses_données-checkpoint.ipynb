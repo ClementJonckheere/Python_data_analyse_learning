{
 "cells": [
  {
   "cell_type": "code",
   "execution_count": 1,
   "id": "48bdc589-a082-455e-a5e2-9f5a34c41c10",
   "metadata": {
    "tags": []
   },
   "outputs": [],
   "source": [
    "import pandas as pd\n",
    "df = pd.read_csv(\"data.csv\")"
   ]
  },
  {
   "cell_type": "code",
   "execution_count": 2,
   "id": "6af08739-5383-4706-a29d-ef6d4fad8340",
   "metadata": {},
   "outputs": [
    {
     "data": {
      "text/plain": [
       "count      1000\n",
       "unique      528\n",
       "top       $3.73\n",
       "freq          8\n",
       "Name: price_paid, dtype: object"
      ]
     },
     "execution_count": 2,
     "metadata": {},
     "output_type": "execute_result"
    }
   ],
   "source": [
    "df[\"price_paid\"].describe()"
   ]
  },
  {
   "cell_type": "code",
   "execution_count": 3,
   "id": "90460ef1-52ab-4d57-8524-af267d815a97",
   "metadata": {
    "tags": []
   },
   "outputs": [],
   "source": [
    "df.price_paid = df.price_paid.apply(lambda x: x.replace(\"$\",\"\"))\n",
    "df.price_paid = df.price_paid.astype(float)"
   ]
  },
  {
   "cell_type": "code",
   "execution_count": 4,
   "id": "fd5d5ce2-40b6-4563-8127-945559db1be9",
   "metadata": {
    "tags": []
   },
   "outputs": [
    {
     "data": {
      "text/plain": [
       "6.461930000000001"
      ]
     },
     "execution_count": 4,
     "metadata": {},
     "output_type": "execute_result"
    }
   ],
   "source": [
    "df[\"price_paid\"].mean()"
   ]
  },
  {
   "cell_type": "code",
   "execution_count": 5,
   "id": "20e06c9c-ca7e-4b29-b0a9-692dd51a5d7b",
   "metadata": {
    "tags": []
   },
   "outputs": [
    {
     "data": {
      "text/plain": [
       "6461.93"
      ]
     },
     "execution_count": 5,
     "metadata": {},
     "output_type": "execute_result"
    }
   ],
   "source": [
    "df[\"price_paid\"].sum()"
   ]
  },
  {
   "cell_type": "code",
   "execution_count": 6,
   "id": "e066f064-6b5f-4496-82ff-965ed070fdb3",
   "metadata": {
    "tags": []
   },
   "outputs": [
    {
     "data": {
      "text/plain": [
       "3.0"
      ]
     },
     "execution_count": 6,
     "metadata": {},
     "output_type": "execute_result"
    }
   ],
   "source": [
    "df[\"price_paid\"].min()"
   ]
  },
  {
   "cell_type": "code",
   "execution_count": 7,
   "id": "a4b7f476-aaf8-4950-8ce9-3b54275ac029",
   "metadata": {
    "tags": []
   },
   "outputs": [
    {
     "data": {
      "text/plain": [
       "10.0"
      ]
     },
     "execution_count": 7,
     "metadata": {},
     "output_type": "execute_result"
    }
   ],
   "source": [
    "df[\"price_paid\"].max()"
   ]
  },
  {
   "cell_type": "code",
   "execution_count": 8,
   "id": "d7bf9dd1-5b43-4674-8ad8-aa7cf212e23a",
   "metadata": {
    "tags": []
   },
   "outputs": [
    {
     "data": {
      "text/plain": [
       "array(['Canada', 'United States', 'Morocco', 'France', nan], dtype=object)"
      ]
     },
     "execution_count": 8,
     "metadata": {},
     "output_type": "execute_result"
    }
   ],
   "source": [
    "df[\"country\"].unique()"
   ]
  },
  {
   "cell_type": "code",
   "execution_count": 9,
   "id": "c2669003-0a89-42aa-aa3e-252aa56e24d5",
   "metadata": {
    "tags": []
   },
   "outputs": [
    {
     "data": {
      "text/plain": [
       "array([ 5.36,  8.32,  3.73,  3.7 ,  9.24,  5.82,  6.29,  3.01,  9.05,\n",
       "        5.71,  3.15,  5.3 ,  5.97,  4.53,  4.1 ,  6.44,  3.16,  4.9 ,\n",
       "        5.55,  4.86,  6.72,  9.79,  8.23,  9.9 ,  5.88,  3.06,  9.52,\n",
       "        6.76,  7.81,  6.02,  5.  ,  5.34,  4.67,  6.22,  3.37,  9.5 ,\n",
       "        4.54,  4.04,  3.45,  4.96,  5.29,  8.11,  7.8 ,  4.21,  9.81,\n",
       "        9.7 ,  9.71,  3.88,  3.4 ,  9.23,  6.57,  9.99,  6.94,  4.26,\n",
       "        9.13,  6.66,  9.35,  3.04,  6.17,  7.68,  4.23,  4.69,  7.56,\n",
       "        5.92,  4.65,  6.79,  8.71,  8.96,  4.39,  7.54,  5.83,  6.39,\n",
       "        9.6 ,  9.68,  9.86,  5.53,  3.51,  8.43,  6.89,  6.68,  4.66,\n",
       "        4.95,  6.77,  7.48,  7.23,  8.12,  5.8 ,  6.06,  4.71,  7.78,\n",
       "        9.67,  9.93,  4.56,  4.42,  4.12,  4.32,  8.83,  3.18,  8.86,\n",
       "        7.2 ,  3.72,  7.67,  8.68,  9.58,  7.91,  7.65,  8.77,  7.17,\n",
       "        9.47,  8.97,  6.07,  9.89,  8.85,  9.37,  7.03,  5.9 ,  4.  ,\n",
       "        6.88,  8.75,  3.03,  6.64,  8.65,  5.98,  8.69,  4.46,  4.24,\n",
       "        8.79,  4.82,  8.16,  7.19,  5.87,  7.05,  3.93,  5.33,  6.09,\n",
       "        5.72,  3.12,  8.45,  6.86,  4.74,  7.98,  8.7 ,  4.57,  4.38,\n",
       "        6.8 ,  6.53,  7.27,  7.75,  3.95, 10.  ,  6.96,  6.58,  5.56,\n",
       "        6.31,  5.49,  6.71,  6.93,  4.92,  9.02,  5.91,  9.27,  4.97,\n",
       "        7.02,  3.1 ,  4.25,  6.16,  4.47,  6.73,  9.32,  7.41,  9.51,\n",
       "        8.88,  5.47,  4.2 ,  9.38,  7.44,  9.1 ,  6.24,  4.43,  3.21,\n",
       "        8.82,  5.68,  6.14,  7.32,  8.62,  5.75,  3.96,  8.21,  3.52,\n",
       "        8.22,  9.45,  7.82,  3.05,  4.61,  7.83,  7.88,  4.48,  4.4 ,\n",
       "        8.37,  6.21,  9.16,  3.34,  8.24,  3.23,  9.3 ,  7.62,  8.74,\n",
       "        8.63,  3.78,  8.15,  3.87,  9.33,  8.02,  8.61,  3.17,  9.83,\n",
       "        4.44,  3.29,  6.11,  4.93,  6.05,  5.63,  9.98,  5.84,  8.19,\n",
       "        3.81,  5.86,  8.84,  3.33,  8.89,  8.34,  6.47,  8.66,  9.57,\n",
       "        3.48,  7.71,  8.27,  3.63,  8.28,  7.04,  3.84,  5.21,  8.33,\n",
       "        9.12,  3.09,  9.19,  8.25,  9.92,  3.79,  8.31,  9.43,  7.72,\n",
       "        3.44,  4.18,  7.12,  7.13,  4.84,  7.3 ,  7.89,  9.04,  4.03,\n",
       "        4.98,  6.7 ,  4.34,  6.32,  5.06,  9.31,  4.3 ,  3.56,  8.41,\n",
       "        6.49,  7.18,  6.75,  4.72,  3.68,  3.6 ,  9.85,  9.88,  6.46,\n",
       "        7.93,  3.53,  7.79,  4.16,  5.54,  5.35,  4.91,  6.5 ,  6.84,\n",
       "        8.17,  3.27,  5.27,  5.62,  3.66,  9.4 ,  5.66,  9.96,  4.76,\n",
       "        6.34,  8.64,  5.65,  5.08,  5.5 ,  6.6 ,  5.45,  8.95,  3.08,\n",
       "        9.97,  7.38,  6.98,  6.37,  4.31,  5.16,  7.9 ,  9.2 ,  8.01,\n",
       "        7.31,  7.66,  8.46,  3.14,  6.35,  3.2 ,  8.08,  7.28,  5.57,\n",
       "        3.49,  9.18,  7.22,  9.06,  6.55,  5.79,  3.25,  7.99,  8.18,\n",
       "        5.15,  6.23,  9.36,  5.05,  3.57,  9.21,  7.52,  3.28,  8.54,\n",
       "        3.8 ,  4.51,  9.75,  7.14,  8.4 ,  7.08,  8.49,  3.02,  6.27,\n",
       "        7.36,  4.01,  6.91,  8.38,  4.78,  8.94,  8.35,  7.96,  7.85,\n",
       "        8.1 ,  6.52,  6.2 ,  4.83,  9.08,  5.32,  7.16,  3.38,  5.61,\n",
       "        8.8 ,  4.22,  9.82,  9.29,  5.48,  5.24,  7.5 ,  7.95,  3.98,\n",
       "        3.74,  4.87,  3.86,  4.17,  3.36,  5.6 ,  6.51,  4.55,  4.36,\n",
       "        7.45,  8.55,  3.77,  3.46,  8.92,  6.4 ,  3.92,  5.1 ,  9.42,\n",
       "        9.09,  5.81,  6.43,  6.48,  6.12,  6.18,  3.31,  8.6 ,  6.85,\n",
       "        4.02,  3.35,  8.42,  5.89,  9.72,  3.61,  7.39,  9.84,  3.22,\n",
       "        4.35,  4.62,  4.49,  4.5 ,  8.72,  6.63,  4.7 ,  6.59,  3.75,\n",
       "        5.2 ,  3.59,  7.09,  5.78,  5.26,  6.62,  4.88,  5.4 ,  3.94,\n",
       "        6.99,  3.91,  3.54,  9.53,  9.65,  3.89,  9.77,  5.25,  3.58,\n",
       "        9.62,  3.69,  4.85,  3.55,  5.09,  4.13,  3.  ,  3.41,  5.69,\n",
       "        4.79,  9.95,  5.76,  6.87,  8.44,  6.19,  7.76,  9.63,  7.43,\n",
       "        4.68,  5.73,  5.42,  7.25,  9.11,  5.44,  5.7 ,  9.8 ,  5.03,\n",
       "        6.81,  5.18,  7.34,  4.05,  4.27,  5.37,  8.9 ,  7.51,  8.48,\n",
       "        3.9 ,  9.26,  3.11,  5.19,  5.51,  8.99,  4.07,  9.01,  8.53,\n",
       "        6.67,  6.56,  6.92,  9.15,  5.67,  5.96,  8.09,  5.11,  7.4 ,\n",
       "        7.33,  5.43,  6.3 ,  5.28,  5.02,  5.93,  9.78,  9.28,  3.5 ,\n",
       "        9.22,  6.15,  9.69,  7.97,  5.94,  9.76,  3.83,  4.73,  6.95,\n",
       "        3.32,  9.03,  4.64,  7.59,  3.3 ,  7.37,  6.13,  7.7 ,  3.07,\n",
       "        6.69,  3.71,  9.55,  4.33,  6.1 ,  4.59])"
      ]
     },
     "execution_count": 9,
     "metadata": {},
     "output_type": "execute_result"
    }
   ],
   "source": [
    "df[\"price_paid\"].unique()"
   ]
  },
  {
   "cell_type": "code",
   "execution_count": 10,
   "id": "4823775b-6d23-45f7-bc87-8c2d71df21cd",
   "metadata": {
    "tags": []
   },
   "outputs": [
    {
     "data": {
      "text/plain": [
       "France           408\n",
       "United States    333\n",
       "Canada           161\n",
       "Morocco           54\n",
       "Name: country, dtype: int64"
      ]
     },
     "execution_count": 10,
     "metadata": {},
     "output_type": "execute_result"
    }
   ],
   "source": [
    "df[\"country\"].value_counts()"
   ]
  },
  {
   "cell_type": "code",
   "execution_count": 11,
   "id": "26e1d9af-ad7e-4445-afd3-74737034f4ea",
   "metadata": {
    "tags": []
   },
   "outputs": [
    {
     "data": {
      "text/plain": [
       "Female    0.529538\n",
       "Male      0.470462\n",
       "Name: gender, dtype: float64"
      ]
     },
     "execution_count": 11,
     "metadata": {},
     "output_type": "execute_result"
    }
   ],
   "source": [
    "df[\"gender\"].value_counts(normalize=True)"
   ]
  },
  {
   "cell_type": "code",
   "execution_count": 12,
   "id": "ce44f6e8-13ad-43e0-a7eb-e01788f06eea",
   "metadata": {
    "tags": []
   },
   "outputs": [
    {
     "name": "stderr",
     "output_type": "stream",
     "text": [
      "C:\\Users\\cleme\\AppData\\Local\\Temp\\ipykernel_16156\\1819427493.py:1: FutureWarning: The default value of numeric_only in DataFrameGroupBy.sum is deprecated. In a future version, numeric_only will default to False. Either specify numeric_only or select only columns which should be valid for the function.\n",
      "  df.groupby(\"country\").sum()\n"
     ]
    },
    {
     "data": {
      "text/html": [
       "<div>\n",
       "<style scoped>\n",
       "    .dataframe tbody tr th:only-of-type {\n",
       "        vertical-align: middle;\n",
       "    }\n",
       "\n",
       "    .dataframe tbody tr th {\n",
       "        vertical-align: top;\n",
       "    }\n",
       "\n",
       "    .dataframe thead th {\n",
       "        text-align: right;\n",
       "    }\n",
       "</style>\n",
       "<table border=\"1\" class=\"dataframe\">\n",
       "  <thead>\n",
       "    <tr style=\"text-align: right;\">\n",
       "      <th></th>\n",
       "      <th>id</th>\n",
       "      <th>price_paid</th>\n",
       "      <th>tax</th>\n",
       "    </tr>\n",
       "    <tr>\n",
       "      <th>country</th>\n",
       "      <th></th>\n",
       "      <th></th>\n",
       "      <th></th>\n",
       "    </tr>\n",
       "  </thead>\n",
       "  <tbody>\n",
       "    <tr>\n",
       "      <th>Canada</th>\n",
       "      <td>70365</td>\n",
       "      <td>1017.45</td>\n",
       "      <td>2160.0</td>\n",
       "    </tr>\n",
       "    <tr>\n",
       "      <th>France</th>\n",
       "      <td>214440</td>\n",
       "      <td>2619.61</td>\n",
       "      <td>5100.0</td>\n",
       "    </tr>\n",
       "    <tr>\n",
       "      <th>Morocco</th>\n",
       "      <td>26591</td>\n",
       "      <td>362.97</td>\n",
       "      <td>780.0</td>\n",
       "    </tr>\n",
       "    <tr>\n",
       "      <th>United States</th>\n",
       "      <td>168150</td>\n",
       "      <td>2183.67</td>\n",
       "      <td>4520.0</td>\n",
       "    </tr>\n",
       "  </tbody>\n",
       "</table>\n",
       "</div>"
      ],
      "text/plain": [
       "                   id  price_paid     tax\n",
       "country                                  \n",
       "Canada          70365     1017.45  2160.0\n",
       "France         214440     2619.61  5100.0\n",
       "Morocco         26591      362.97   780.0\n",
       "United States  168150     2183.67  4520.0"
      ]
     },
     "execution_count": 12,
     "metadata": {},
     "output_type": "execute_result"
    }
   ],
   "source": [
    "df.groupby(\"country\").sum()"
   ]
  },
  {
   "cell_type": "code",
   "execution_count": 13,
   "id": "5a50b2d7-5664-41cc-9842-71adf8fa6bba",
   "metadata": {
    "tags": []
   },
   "outputs": [
    {
     "name": "stderr",
     "output_type": "stream",
     "text": [
      "C:\\Users\\cleme\\AppData\\Local\\Temp\\ipykernel_16156\\2783625821.py:1: FutureWarning: The default value of numeric_only in DataFrameGroupBy.mean is deprecated. In a future version, numeric_only will default to False. Either specify numeric_only or select only columns which should be valid for the function.\n",
      "  df.groupby(\"country\").mean()\n"
     ]
    },
    {
     "data": {
      "text/html": [
       "<div>\n",
       "<style scoped>\n",
       "    .dataframe tbody tr th:only-of-type {\n",
       "        vertical-align: middle;\n",
       "    }\n",
       "\n",
       "    .dataframe tbody tr th {\n",
       "        vertical-align: top;\n",
       "    }\n",
       "\n",
       "    .dataframe thead th {\n",
       "        text-align: right;\n",
       "    }\n",
       "</style>\n",
       "<table border=\"1\" class=\"dataframe\">\n",
       "  <thead>\n",
       "    <tr style=\"text-align: right;\">\n",
       "      <th></th>\n",
       "      <th>id</th>\n",
       "      <th>price_paid</th>\n",
       "      <th>tax</th>\n",
       "    </tr>\n",
       "    <tr>\n",
       "      <th>country</th>\n",
       "      <th></th>\n",
       "      <th></th>\n",
       "      <th></th>\n",
       "    </tr>\n",
       "  </thead>\n",
       "  <tbody>\n",
       "    <tr>\n",
       "      <th>Canada</th>\n",
       "      <td>437.049689</td>\n",
       "      <td>6.319565</td>\n",
       "      <td>20.0</td>\n",
       "    </tr>\n",
       "    <tr>\n",
       "      <th>France</th>\n",
       "      <td>525.588235</td>\n",
       "      <td>6.420613</td>\n",
       "      <td>20.0</td>\n",
       "    </tr>\n",
       "    <tr>\n",
       "      <th>Morocco</th>\n",
       "      <td>492.425926</td>\n",
       "      <td>6.721667</td>\n",
       "      <td>20.0</td>\n",
       "    </tr>\n",
       "    <tr>\n",
       "      <th>United States</th>\n",
       "      <td>504.954955</td>\n",
       "      <td>6.557568</td>\n",
       "      <td>20.0</td>\n",
       "    </tr>\n",
       "  </tbody>\n",
       "</table>\n",
       "</div>"
      ],
      "text/plain": [
       "                       id  price_paid   tax\n",
       "country                                    \n",
       "Canada         437.049689    6.319565  20.0\n",
       "France         525.588235    6.420613  20.0\n",
       "Morocco        492.425926    6.721667  20.0\n",
       "United States  504.954955    6.557568  20.0"
      ]
     },
     "execution_count": 13,
     "metadata": {},
     "output_type": "execute_result"
    }
   ],
   "source": [
    "df.groupby(\"country\").mean()"
   ]
  },
  {
   "cell_type": "code",
   "execution_count": 14,
   "id": "09005f77-e0e4-4964-bd97-94f20a89aece",
   "metadata": {
    "tags": []
   },
   "outputs": [
    {
     "name": "stderr",
     "output_type": "stream",
     "text": [
      "C:\\Users\\cleme\\AppData\\Local\\Temp\\ipykernel_16156\\2781464171.py:1: FutureWarning: The default value of numeric_only in DataFrameGroupBy.mean is deprecated. In a future version, numeric_only will default to False. Either specify numeric_only or select only columns which should be valid for the function.\n",
      "  df.groupby(\"gender\").mean()\n"
     ]
    },
    {
     "data": {
      "text/html": [
       "<div>\n",
       "<style scoped>\n",
       "    .dataframe tbody tr th:only-of-type {\n",
       "        vertical-align: middle;\n",
       "    }\n",
       "\n",
       "    .dataframe tbody tr th {\n",
       "        vertical-align: top;\n",
       "    }\n",
       "\n",
       "    .dataframe thead th {\n",
       "        text-align: right;\n",
       "    }\n",
       "</style>\n",
       "<table border=\"1\" class=\"dataframe\">\n",
       "  <thead>\n",
       "    <tr style=\"text-align: right;\">\n",
       "      <th></th>\n",
       "      <th>id</th>\n",
       "      <th>price_paid</th>\n",
       "      <th>tax</th>\n",
       "    </tr>\n",
       "    <tr>\n",
       "      <th>gender</th>\n",
       "      <th></th>\n",
       "      <th></th>\n",
       "      <th></th>\n",
       "    </tr>\n",
       "  </thead>\n",
       "  <tbody>\n",
       "    <tr>\n",
       "      <th>Female</th>\n",
       "      <td>493.154158</td>\n",
       "      <td>6.420406</td>\n",
       "      <td>20.0</td>\n",
       "    </tr>\n",
       "    <tr>\n",
       "      <th>Male</th>\n",
       "      <td>503.614155</td>\n",
       "      <td>6.469429</td>\n",
       "      <td>20.0</td>\n",
       "    </tr>\n",
       "  </tbody>\n",
       "</table>\n",
       "</div>"
      ],
      "text/plain": [
       "                id  price_paid   tax\n",
       "gender                              \n",
       "Female  493.154158    6.420406  20.0\n",
       "Male    503.614155    6.469429  20.0"
      ]
     },
     "execution_count": 14,
     "metadata": {},
     "output_type": "execute_result"
    }
   ],
   "source": [
    "df.groupby(\"gender\").mean()"
   ]
  },
  {
   "cell_type": "code",
   "execution_count": 15,
   "id": "63e10ff0-1420-4661-81af-04c612a81c2f",
   "metadata": {
    "tags": []
   },
   "outputs": [
    {
     "data": {
      "text/plain": [
       "gender\n",
       "Female    6.420406\n",
       "Male      6.469429\n",
       "Name: price_paid, dtype: float64"
      ]
     },
     "execution_count": 15,
     "metadata": {},
     "output_type": "execute_result"
    }
   ],
   "source": [
    "df.groupby(\"gender\")[\"price_paid\"].mean()"
   ]
  },
  {
   "cell_type": "code",
   "execution_count": 16,
   "id": "de90a9f9-c37a-48f5-9980-8845252c56b6",
   "metadata": {
    "tags": []
   },
   "outputs": [
    {
     "data": {
      "text/plain": [
       "gender\n",
       "Female    3165.26\n",
       "Male      2833.61\n",
       "Name: price_paid, dtype: float64"
      ]
     },
     "execution_count": 16,
     "metadata": {},
     "output_type": "execute_result"
    }
   ],
   "source": [
    "df.groupby(\"gender\")[\"price_paid\"].sum()"
   ]
  },
  {
   "cell_type": "code",
   "execution_count": 17,
   "id": "cce2cd0e-bc21-4daf-a87e-ac178e831aea",
   "metadata": {
    "tags": []
   },
   "outputs": [
    {
     "name": "stderr",
     "output_type": "stream",
     "text": [
      "C:\\Users\\cleme\\AppData\\Local\\Temp\\ipykernel_16156\\1075162087.py:1: FutureWarning: The default value of numeric_only in DataFrameGroupBy.mean is deprecated. In a future version, numeric_only will default to False. Either specify numeric_only or select only columns which should be valid for the function.\n",
      "  df.groupby([\"gender\",\"country\"]).mean()\n"
     ]
    },
    {
     "data": {
      "text/html": [
       "<div>\n",
       "<style scoped>\n",
       "    .dataframe tbody tr th:only-of-type {\n",
       "        vertical-align: middle;\n",
       "    }\n",
       "\n",
       "    .dataframe tbody tr th {\n",
       "        vertical-align: top;\n",
       "    }\n",
       "\n",
       "    .dataframe thead th {\n",
       "        text-align: right;\n",
       "    }\n",
       "</style>\n",
       "<table border=\"1\" class=\"dataframe\">\n",
       "  <thead>\n",
       "    <tr style=\"text-align: right;\">\n",
       "      <th></th>\n",
       "      <th></th>\n",
       "      <th>id</th>\n",
       "      <th>price_paid</th>\n",
       "      <th>tax</th>\n",
       "    </tr>\n",
       "    <tr>\n",
       "      <th>gender</th>\n",
       "      <th>country</th>\n",
       "      <th></th>\n",
       "      <th></th>\n",
       "      <th></th>\n",
       "    </tr>\n",
       "  </thead>\n",
       "  <tbody>\n",
       "    <tr>\n",
       "      <th rowspan=\"4\" valign=\"top\">Female</th>\n",
       "      <th>Canada</th>\n",
       "      <td>461.472973</td>\n",
       "      <td>6.419324</td>\n",
       "      <td>20.0</td>\n",
       "    </tr>\n",
       "    <tr>\n",
       "      <th>France</th>\n",
       "      <td>512.648241</td>\n",
       "      <td>6.350352</td>\n",
       "      <td>20.0</td>\n",
       "    </tr>\n",
       "    <tr>\n",
       "      <th>Morocco</th>\n",
       "      <td>479.925926</td>\n",
       "      <td>7.024815</td>\n",
       "      <td>20.0</td>\n",
       "    </tr>\n",
       "    <tr>\n",
       "      <th>United States</th>\n",
       "      <td>487.282353</td>\n",
       "      <td>6.437118</td>\n",
       "      <td>20.0</td>\n",
       "    </tr>\n",
       "    <tr>\n",
       "      <th rowspan=\"4\" valign=\"top\">Male</th>\n",
       "      <th>Canada</th>\n",
       "      <td>406.000000</td>\n",
       "      <td>6.117467</td>\n",
       "      <td>20.0</td>\n",
       "    </tr>\n",
       "    <tr>\n",
       "      <th>France</th>\n",
       "      <td>534.928177</td>\n",
       "      <td>6.498950</td>\n",
       "      <td>20.0</td>\n",
       "    </tr>\n",
       "    <tr>\n",
       "      <th>Morocco</th>\n",
       "      <td>483.652174</td>\n",
       "      <td>6.146957</td>\n",
       "      <td>20.0</td>\n",
       "    </tr>\n",
       "    <tr>\n",
       "      <th>United States</th>\n",
       "      <td>525.284722</td>\n",
       "      <td>6.672500</td>\n",
       "      <td>20.0</td>\n",
       "    </tr>\n",
       "  </tbody>\n",
       "</table>\n",
       "</div>"
      ],
      "text/plain": [
       "                              id  price_paid   tax\n",
       "gender country                                    \n",
       "Female Canada         461.472973    6.419324  20.0\n",
       "       France         512.648241    6.350352  20.0\n",
       "       Morocco        479.925926    7.024815  20.0\n",
       "       United States  487.282353    6.437118  20.0\n",
       "Male   Canada         406.000000    6.117467  20.0\n",
       "       France         534.928177    6.498950  20.0\n",
       "       Morocco        483.652174    6.146957  20.0\n",
       "       United States  525.284722    6.672500  20.0"
      ]
     },
     "execution_count": 17,
     "metadata": {},
     "output_type": "execute_result"
    }
   ],
   "source": [
    "df.groupby([\"gender\",\"country\"]).mean()"
   ]
  },
  {
   "cell_type": "code",
   "execution_count": 20,
   "id": "72bcb377-8a2d-4385-bd31-5e69a757aad0",
   "metadata": {},
   "outputs": [
    {
     "data": {
      "text/plain": [
       "<Axes: xlabel='date'>"
      ]
     },
     "execution_count": 20,
     "metadata": {},
     "output_type": "execute_result"
    },
    {
     "data": {
      "image/png": "[encoded data removed]",
      "text/plain": [
       "<Figure size 2000x1000 with 1 Axes>"
      ]
     },
     "metadata": {},
     "output_type": "display_data"
    }
   ],
   "source": [
    "df.groupby(\"date\")[\"price_paid\"].sum().plot(figsize=[20, 10])"
   ]
  },
  {
   "cell_type": "code",
   "execution_count": 22,
   "id": "7c03cd82-27de-46e3-aebe-1e307872a2ad",
   "metadata": {
    "tags": []
   },
   "outputs": [
    {
     "data": {
      "text/plain": [
       "<Axes: ylabel='price_paid'>"
      ]
     },
     "execution_count": 22,
     "metadata": {},
     "output_type": "execute_result"
    },
    {
     "data": {
      "image/png": "[encoded data removed]",
      "text/plain": [
       "<Figure size 640x480 with 1 Axes>"
      ]
     },
     "metadata": {},
     "output_type": "display_data"
    }
   ],
   "source": [
    "df.groupby(\"gender\")[\"price_paid\"].sum().plot.pie(legend=True)"
   ]
  },
  {
   "cell_type": "code",
   "execution_count": 23,
   "id": "a1832900-4d98-4071-8c99-17c623b462bb",
   "metadata": {
    "tags": []
   },
   "outputs": [
    {
     "data": {
      "text/plain": [
       "<Axes: xlabel='country'>"
      ]
     },
     "execution_count": 23,
     "metadata": {},
     "output_type": "execute_result"
    },
    {
     "data": {
      "image/png": "[encoded data removed]",
      "text/plain": [
       "<Figure size 640x480 with 1 Axes>"
      ]
     },
     "metadata": {},
     "output_type": "display_data"
    }
   ],
   "source": [
    "df.groupby(\"country\")[\"price_paid\"].sum().plot.bar(rot=45, legend=True)"
   ]
  },
  {
   "cell_type": "code",
   "execution_count": null,
   "id": "f1fb07a0-f132-488c-bfcf-d7117ab7ec8f",
   "metadata": {},
   "outputs": [],
   "source": []
  }
 ],
 "metadata": {
  "kernelspec": {
   "display_name": "Python 3 (ipykernel)",
   "language": "python",
   "name": "python3"
  },
  "language_info": {
   "codemirror_mode": {
    "name": "ipython",
    "version": 3
   },
   "file_extension": ".py",
   "mimetype": "text/x-python",
   "name": "python",
   "nbconvert_exporter": "python",
   "pygments_lexer": "ipython3",
   "version": "3.11.2"
  }
 },
 "nbformat": 4,
 "nbformat_minor": 5
}
